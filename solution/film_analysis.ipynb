{
 "cells": [
  {
   "cell_type": "markdown",
   "metadata": {},
   "source": [
    "Alumno: Paez Sheridan, Pablo Santiago\n",
    "Mail: pablopaezsheridan@outlook.com.ar\n",
    "Ingeniero en Sistemas de Informacion"
   ]
  },
  {
   "cell_type": "markdown",
   "metadata": {},
   "source": [
    "<h1>Movies</h1> \n",
    "Paez Sheridan, Pablo Santiago\n",
    "Fecha: 15/07/1997\n",
    "<h2>Introducción</h2>\n",
    "\n",
    " En este proyecto se desarrolla en Python un análisis básico de datos sobre películas de cine\n",
    " de IMDB. El set de datos que vamos a usar inicialmente se encuentra en la siguiente\n",
    " página:\n",
    " https://www.kaggle.com/datasets/carolzhangdc/imdb-5000-movie-dataset\n",
    "\n",
    " En ella puede encontrarse información más detallada, así como una descripción precisa de\n",
    " cada columna.\n",
    "\n",
    "Todo: Intro\n",
    "\n",
    " Se plantean los apartados iniciales para su resolución sin usar la libreria pandas. Esto se\n",
    " propone así para forzar a practicar con las técnicas, herramientas y conceptos básicos de\n",
    " Python. Más adelante, hay otros apartados propuestos para su resolución con esta librería y\n",
    " otras.\n",
    "\n",
    "Todo: Autoevaluacion\n"
   ]
  },
  {
   "cell_type": "code",
   "execution_count": 13,
   "metadata": {},
   "outputs": [],
   "source": [
    "# Constantes globales:\n",
    "\n",
    "MOVIES_DATA = './movie_metadata.csv'"
   ]
  },
  {
   "cell_type": "code",
   "execution_count": 7,
   "metadata": {},
   "outputs": [],
   "source": [
    "# Librerías:\n",
    "\n",
    "import csv"
   ]
  },
  {
   "cell_type": "markdown",
   "metadata": {},
   "source": [
    "<h2>Parte A. Ejercicios básicos sin usar pandas </h2>"
   ]
  },
  {
   "cell_type": "markdown",
   "metadata": {},
   "source": [
    "<h3> A.1. Exploración inicial básica del archivo de datos</h3>"
   ]
  },
  {
   "cell_type": "code",
   "execution_count": 16,
   "metadata": {},
   "outputs": [],
   "source": [
    "def load_full_data(data_file_path):\n",
    "    with open('movie_metadata.csv', mode='r') as file:\n",
    "        reader = csv.reader(file)\n",
    "        headers = next(reader)\n",
    "        data = [row for row in reader]\n",
    "    return headers, data"
   ]
  },
  {
   "cell_type": "code",
   "execution_count": 25,
   "metadata": {},
   "outputs": [
    {
     "name": "stdout",
     "output_type": "stream",
     "text": [
      "['color', 'director_name', 'num_critic_for_reviews', 'duration', 'director_facebook_likes', 'actor_3_facebook_likes', 'actor_2_name', 'actor_1_facebook_likes', 'gross', 'genres', 'actor_1_name', 'movie_title', 'num_voted_users', 'cast_total_facebook_likes', 'actor_3_name', 'facenumber_in_poster', 'plot_keywords', 'movie_imdb_link', 'num_user_for_reviews', 'language', 'country', 'content_rating', 'budget', 'title_year', 'actor_2_facebook_likes', 'imdb_score', 'aspect_ratio', 'movie_facebook_likes']\n",
      "\n",
      "[['Color', 'James Cameron', '723', '178', '0', '855', 'Joel David Moore', '1000', '760505847', 'Action|Adventure|Fantasy|Sci-Fi', 'CCH Pounder', 'Avatar\\xa0', '886204', '4834', 'Wes Studi', '0', 'avatar|future|marine|native|paraplegic', 'http://www.imdb.com/title/tt0499549/?ref_=fn_tt_tt_1', '3054', 'English', 'USA', 'PG-13', '237000000', '2009', '936', '7.9', '1.78', '33000'], ['Color', 'Gore Verbinski', '302', '169', '563', '1000', 'Orlando Bloom', '40000', '309404152', 'Action|Adventure|Fantasy', 'Johnny Depp', \"Pirates of the Caribbean: At World's End\\xa0\", '471220', '48350', 'Jack Davenport', '0', 'goddess|marriage ceremony|marriage proposal|pirate|singapore', 'http://www.imdb.com/title/tt0449088/?ref_=fn_tt_tt_1', '1238', 'English', 'USA', 'PG-13', '300000000', '2007', '5000', '7.1', '2.35', '0'], ['Color', 'Sam Mendes', '602', '148', '0', '161', 'Rory Kinnear', '11000', '200074175', 'Action|Adventure|Thriller', 'Christoph Waltz', 'Spectre\\xa0', '275868', '11700', 'Stephanie Sigman', '1', 'bomb|espionage|sequel|spy|terrorist', 'http://www.imdb.com/title/tt2379713/?ref_=fn_tt_tt_1', '994', 'English', 'UK', 'PG-13', '245000000', '2015', '393', '6.8', '2.35', '85000'], ['Color', 'Christopher Nolan', '813', '164', '22000', '23000', 'Christian Bale', '27000', '448130642', 'Action|Thriller', 'Tom Hardy', 'The Dark Knight Rises\\xa0', '1144337', '106759', 'Joseph Gordon-Levitt', '0', 'deception|imprisonment|lawlessness|police officer|terrorist plot', 'http://www.imdb.com/title/tt1345836/?ref_=fn_tt_tt_1', '2701', 'English', 'USA', 'PG-13', '250000000', '2012', '23000', '8.5', '2.35', '164000'], ['', 'Doug Walker', '', '', '131', '', 'Rob Walker', '131', '', 'Documentary', 'Doug Walker', 'Star Wars: Episode VII - The Force Awakens\\xa0            ', '8', '143', '', '0', '', 'http://www.imdb.com/title/tt5289954/?ref_=fn_tt_tt_1', '', '', '', '', '', '', '12', '7.1', '', '0']]\n"
     ]
    }
   ],
   "source": [
    "# Test de funcionamiento\n",
    "full_header, full_list_data = load_full_data(MOVIES_DATA)\n",
    "print(full_header)\n",
    "print()\n",
    "print(full_list_data[0:5])"
   ]
  },
  {
   "cell_type": "markdown",
   "metadata": {},
   "source": [
    "Mostrar las posiciones de los identificadores de los campos, dados en la línea cabecera"
   ]
  },
  {
   "cell_type": "code",
   "execution_count": 18,
   "metadata": {},
   "outputs": [],
   "source": [
    "list_of_enumerated_headers = [(i,header)for i,header in enumerate(full_header)]"
   ]
  },
  {
   "cell_type": "code",
   "execution_count": 19,
   "metadata": {},
   "outputs": [
    {
     "name": "stdout",
     "output_type": "stream",
     "text": [
      "[(0, 'color'), (1, 'director_name'), (2, 'num_critic_for_reviews'), (3, 'duration'), (4, 'director_facebook_likes'), (5, 'actor_3_facebook_likes'), (6, 'actor_2_name'), (7, 'actor_1_facebook_likes'), (8, 'gross'), (9, 'genres'), (10, 'actor_1_name'), (11, 'movie_title'), (12, 'num_voted_users'), (13, 'cast_total_facebook_likes'), (14, 'actor_3_name'), (15, 'facenumber_in_poster'), (16, 'plot_keywords'), (17, 'movie_imdb_link'), (18, 'num_user_for_reviews'), (19, 'language'), (20, 'country'), (21, 'content_rating'), (22, 'budget'), (23, 'title_year'), (24, 'actor_2_facebook_likes'), (25, 'imdb_score'), (26, 'aspect_ratio'), (27, 'movie_facebook_likes')]\n"
     ]
    }
   ],
   "source": [
    "# Test de funcionamiento\n",
    "print(list_of_enumerated_headers)"
   ]
  },
  {
   "cell_type": "markdown",
   "metadata": {},
   "source": [
    "<h3>A.2. Campos principales de una película</h3>"
   ]
  },
  {
   "cell_type": "markdown",
   "metadata": {},
   "source": [
    "Los campos (columnas) del archivo son demasiados. No nos interesan todos ellos. Dada\n",
    "una lista con todos los campos, se pide extraer otra lista sólo con los campos con los que\n",
    "vamos a trabajar en los siguientes apartados: movie_title , title_year ,\n",
    "director_name , actor_1_name , language , country , color , budget ,\n",
    "imdb_score y movie_imdb_link "
   ]
  },
  {
   "cell_type": "code",
   "execution_count": 82,
   "metadata": {},
   "outputs": [],
   "source": [
    "def main_data_from_item(data:list[str]) -> list[str]:\n",
    "    selected_columns = [\"movie_title\", \"title_year\", \"director_name\", \"actor_1_name\", \"language\", \"country\", \"budget\", \"imdb_score\", \"movie_imdb_link\"]\n",
    "    selected_columns_indexes = [full_header.index(d) for c in selected_columns for d in full_header if c in d]\n",
    "    return [data[si] for si in selected_columns_indexes]    "
   ]
  },
  {
   "cell_type": "code",
   "execution_count": 83,
   "metadata": {},
   "outputs": [
    {
     "name": "stdout",
     "output_type": "stream",
     "text": [
      "['movie_title', 'title_year', 'director_name', 'actor_1_name', 'language', 'country', 'budget', 'imdb_score', 'movie_imdb_link']\n",
      "\n",
      "['Avatar\\xa0', '2009', 'James Cameron', 'CCH Pounder', 'English', 'USA', '237000000', '7.9', 'http://www.imdb.com/title/tt0499549/?ref_=fn_tt_tt_1']\n",
      "\n",
      "['Star Wars: Episode VII - The Force Awakens\\xa0            ', '', 'Doug Walker', 'Doug Walker', '', '', '', '7.1', 'http://www.imdb.com/title/tt5289954/?ref_=fn_tt_tt_1']\n"
     ]
    }
   ],
   "source": [
    "# Test de funcionamiento\n",
    "print(main_data_from_item(full_header))\n",
    "print()\n",
    "datos_avatar_2009 = main_data_from_item(full_list_data[0])\n",
    "print(datos_avatar_2009)\n",
    "print()\n",
    "datos_star_wars_7 = main_data_from_item(full_list_data[4])\n",
    "print(datos_star_wars_7)"
   ]
  },
  {
   "cell_type": "markdown",
   "metadata": {},
   "source": [
    "<h3>A.3. Algunos ajustes en los campos</h3>"
   ]
  },
  {
   "cell_type": "markdown",
   "metadata": {},
   "source": [
    "Observa la anomalía en el string del título de la película. También, queremos tratar algunos\n",
    "campos como numéricos, ya sea enteros (el año y el presupuesto) o reales (la valoración).\n",
    "(Algunos campos numéricos enteros están vacíos en el archivo de datos; para ellos, el valor\n",
    "imputado será -1 .) Además, en las urls de las películas no necesitaremos el fragmento\n",
    "final, iniciado con ?ref_ "
   ]
  },
  {
   "cell_type": "code",
   "execution_count": 88,
   "metadata": {},
   "outputs": [],
   "source": [
    "def datatypes_arranged(data : list[str])->list[str]:\n",
    "    data_treated = []\n",
    "    numeric_indexes = [1,6,7]\n",
    "    for index,d in enumerate(data):\n",
    "        try:\n",
    "            if d == \"\" and index in numeric_indexes:\n",
    "                data_treated.append(-1)\n",
    "            elif (index in numeric_indexes):\n",
    "                data_treated.append(float(d))\n",
    "            elif (index == 8):\n",
    "                data_treated.append(d.split('?ref_')[0])\n",
    "            else:\n",
    "                data_treated.append(d)\n",
    "        except:\n",
    "            data_treated.append(d)\n",
    "    return data_treated"
   ]
  },
  {
   "cell_type": "code",
   "execution_count": 89,
   "metadata": {},
   "outputs": [
    {
     "name": "stdout",
     "output_type": "stream",
     "text": [
      "['Avatar\\xa0', 2009.0, 'James Cameron', 'CCH Pounder', 'English', 'USA', 237000000.0, 7.9, 'http://www.imdb.com/title/tt0499549/']\n",
      "['Star Wars: Episode VII - The Force Awakens\\xa0            ', -1, 'Doug Walker', 'Doug Walker', '', '', -1, 7.1, 'http://www.imdb.com/title/tt5289954/']\n"
     ]
    }
   ],
   "source": [
    "# Test de funcionamiento\n",
    "print(datatypes_arranged(datos_avatar_2009))\n",
    "print(datatypes_arranged(datos_star_wars_7))"
   ]
  },
  {
   "cell_type": "markdown",
   "metadata": {},
   "source": [
    "<h3> A.4. Recuperación de alguna información básica</h3>\n",
    "\n",
    "<p> Diseña funciones para recuperar la siguiente información: </p>\n",
    "<ul>\n",
    "    <li> El conjunto de valores posibles del campo `Color`.</li>\n",
    "    <li> Los títulos de película de nuestro archivo (limpios de caracteres extraños), junto con la cantidad de calificadores (un entero), que contengan la subcadena \"Victor\".</li>        \n",
    "<ul>"
   ]
  },
  {
   "cell_type": "code",
   "execution_count": 102,
   "metadata": {},
   "outputs": [],
   "source": [
    "def column_values(column_index: int)-> set:\n",
    "    values = set()\n",
    "    column_data = [row[column_index] for row in full_list_data[1:]] \n",
    "    for d in column_data:\n",
    "        values.add(d)\n",
    "    return values\n",
    "\n",
    "\n",
    "colores = column_values(0)"
   ]
  },
  {
   "cell_type": "code",
   "execution_count": 103,
   "metadata": {},
   "outputs": [
    {
     "name": "stdout",
     "output_type": "stream",
     "text": [
      "{'', 'Color', ' Black and White'}\n"
     ]
    }
   ],
   "source": [
    "# Test de funcionamiento\n",
    "print(colores)\n",
    "# print(pelis_victor)"
   ]
  },
  {
   "cell_type": "markdown",
   "metadata": {},
   "source": [
    "<h2> B Datos en un diccionario [2 puntos]</h2>\n",
    "<h3>B.1. Carga únicamente de datos que vamos a usar</h3>\n",
    "<p> En lugar de cargar todos los datos del archivo, luego generar otro archivo con los datos que\n",
    " nos interesan y luego ajustarlos, es mejor diseñar una función que recorre el archivo de\n",
    " datos y, de cada línea del archivo, únicamente retiene la parte que nos interesa, cargando la\n",
    " cabecera por un lado y, por otro, la lista de datos de interés, ajustados como ya hemos\n",
    " dicho.\n",
    " Cargaremos esta información en un diccionario, cuyas claves serán pares (título, año)\n",
    " y cuyos valores se recogen en una lista con el resto de los campos.\n",
    " Además, los datos de cada película tras la clave (título, año) están repetidas en el\n",
    " archivo de datos con todos los datos idénticos; y lo que es peor: alguna que está repetida</p>"
   ]
  },
  {
   "cell_type": "code",
   "execution_count": null,
   "metadata": {},
   "outputs": [],
   "source": []
  },
  {
   "cell_type": "code",
   "execution_count": null,
   "metadata": {},
   "outputs": [],
   "source": [
    "# Test de funcionamiento\n",
    "main_header, main_dict_data = load_main_data(MOVIES_DATA)\n",
    "print(main_header)\n",
    "print()\n",
    "for title_year, pieces in list(main_dict_data.items())[:5]:\n",
    "    print(title_year, \" -> \", pieces)"
   ]
  }
 ],
 "metadata": {
  "kernelspec": {
   "display_name": "master-ciencia-de-datos-practica",
   "language": "python",
   "name": "python3"
  },
  "language_info": {
   "codemirror_mode": {
    "name": "ipython",
    "version": 3
   },
   "file_extension": ".py",
   "mimetype": "text/x-python",
   "name": "python",
   "nbconvert_exporter": "python",
   "pygments_lexer": "ipython3",
   "version": "3.13.0"
  }
 },
 "nbformat": 4,
 "nbformat_minor": 2
}
